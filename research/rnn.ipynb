{
 "cells": [
  {
   "cell_type": "code",
   "execution_count": null,
   "metadata": {},
   "outputs": [],
   "source": [
    "X_init = processor.gestures[processor.CLEAN_SENSORS_FINAL].values\n",
    "y_init = y"
   ]
  },
  {
   "cell_type": "code",
   "execution_count": null,
   "metadata": {},
   "outputs": [],
   "source": [
    "\n",
    "# X_train = gestures[OMG_CH].values[:last_train_idx]\n",
    "# y_train = y_cmd[:last_train_idx]\n",
    "\n",
    "# X_test = gestures[OMG_CH].values[last_train_idx:]\n",
    "# y_test = y_cmd[last_train_idx:]"
   ]
  },
  {
   "cell_type": "code",
   "execution_count": null,
   "metadata": {},
   "outputs": [],
   "source": [
    "from sklearn import preprocessing\n",
    "scaler = preprocessing.StandardScaler()\n",
    "\n",
    "scaler.fit(X_init)\n",
    "X_scaled= scaler.transform(X_init)"
   ]
  },
  {
   "cell_type": "code",
   "execution_count": null,
   "metadata": {},
   "outputs": [],
   "source": [
    "X_scaled[4:].shape"
   ]
  },
  {
   "cell_type": "code",
   "execution_count": null,
   "metadata": {},
   "outputs": [],
   "source": [
    "from tensorflow.keras.models import Sequential\n",
    "from tensorflow.keras.layers import GRU, Dense, Dropout, TimeDistributed,BatchNormalization\n",
    "from tensorflow.keras.utils import to_categorical\n",
    "from sklearn.utils.class_weight import compute_class_weight\n",
    "from tensorflow.keras.callbacks import EarlyStopping"
   ]
  },
  {
   "cell_type": "code",
   "execution_count": null,
   "metadata": {},
   "outputs": [],
   "source": [
    "time_steps = 50\n",
    "X_train = X_scaled[4:]\n",
    "y_train = y_init[4:]\n",
    "\n",
    "features = 15\n",
    "num_classes = 6\n",
    "\n",
    "# X_train_reshaped = X_train\n",
    "X_train_reshaped = X_train.reshape(-1, time_steps, features)\n",
    "# X_test_reshaped = X_test.reshape(-1, time_steps, features)\n",
    "\n",
    "y_train_one_hot = to_categorical(y_train)  # Формат (15320, 6)\n",
    "# y_test_one_hot = to_categorical(y_test)    # Формат (3830, \n",
    "\n",
    "# y_train_gru = y_train_one_hot\n",
    "y_train_gru = y_train_one_hot.reshape(y_train_one_hot.shape[0]//time_steps,time_steps, num_classes)\n",
    "# y_test_gru = y_test_one_hot.reshape(y_test_one_hot.shape[0]//time_steps,time_steps,num_classes)\n",
    "\n",
    "# # Вычисление весов классов\n",
    "# class_weights = compute_class_weight('balanced', classes=np.unique(y_train), y=y_train)\n",
    "# class_weights = dict(enumerate(class_weights))\n",
    "\n",
    "# Создание модели с GRU\n",
    "model = Sequential()\n",
    "model.add(GRU(50, input_shape=(time_steps,features), activation='relu', return_sequences=True))  # 50 нейронов в слое\n",
    "\n",
    "model.add(Dense(64, activation='relu'))\n",
    "model.add(Dropout(0.5))\n",
    "\n",
    "model.add(TimeDistributed(Dense(num_classes, activation='softmax')))\n",
    "# model.add(Dense(num_classes, activation='softmax'))\n",
    "model.summary()\n",
    "\n",
    "# Компиляция модели\n",
    "model.compile(optimizer='adam', loss='categorical_crossentropy', metrics=['accuracy'])\n",
    "\n",
    "early_stopping = EarlyStopping(monitor='val_loss', patience=5, restore_best_weights=True)"
   ]
  },
  {
   "cell_type": "code",
   "execution_count": null,
   "metadata": {},
   "outputs": [],
   "source": [
    "print(X_train_reshaped.shape)\n",
    "print(y_train_gru.shape)\n"
   ]
  },
  {
   "cell_type": "code",
   "execution_count": null,
   "metadata": {},
   "outputs": [],
   "source": [
    "model.fit(X_train_reshaped, y_train_gru, epochs=10, batch_size=32, validation_split = .2, callbacks=[early_stopping])"
   ]
  },
  {
   "cell_type": "code",
   "execution_count": null,
   "metadata": {},
   "outputs": [],
   "source": [
    "predictions_train = model.predict(X_train_reshaped)\n",
    "y_train_proba=np.reshape(predictions_train,(2473*50,6))\n",
    "y_pred_train=np.argmax(y_train_proba,axis=1)\n",
    "print(classification_report(y_train, y_pred_train, target_names=processor.GESTURES))"
   ]
  }
 ],
 "metadata": {
  "language_info": {
   "name": "python"
  }
 },
 "nbformat": 4,
 "nbformat_minor": 2
}
